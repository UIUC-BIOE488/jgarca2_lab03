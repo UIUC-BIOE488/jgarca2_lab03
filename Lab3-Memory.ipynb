{
 "cells": [
  {
   "cell_type": "markdown",
   "id": "f65c661c-8855-4ed2-838d-57c6f4afa723",
   "metadata": {},
   "source": [
    "# Memory in Python"
   ]
  },
  {
   "cell_type": "markdown",
   "id": "1e2127d7-ec5c-445b-ac30-bb4a51246742",
   "metadata": {},
   "source": [
    "## Contents\n",
    "- Memory management in Python\n",
    "    - Objects and addresses\n",
    "    - Object references\n",
    "    - Garbage collection\n",
    "- Monitor/observe memory usage\n",
    "    - Single line of code\n",
    "    - One function call\n",
    "- Handling memory-related issues\n",
    "    - Memory mapping\n",
    "    - General considerations"
   ]
  },
  {
   "cell_type": "markdown",
   "id": "380c19db-a775-431f-a33e-461d8cefbe10",
   "metadata": {},
   "source": [
    "# Memory management in Python"
   ]
  },
  {
   "cell_type": "markdown",
   "id": "9431d303-46ff-4b48-893f-144ae4d09650",
   "metadata": {},
   "source": [
    "### Objects\n",
    "Classes, functions, and even simple data types, such as integers, floats, and strings, are represented as 'objects' in memory."
   ]
  },
  {
   "cell_type": "code",
   "execution_count": 16,
   "id": "97bfacaf-e1f4-404e-b9ee-71977a77b5e3",
   "metadata": {
    "ExecuteTime": {
     "end_time": "2024-09-28T03:32:29.421529Z",
     "start_time": "2024-09-28T03:32:29.417529Z"
    }
   },
   "outputs": [
    {
     "name": "stdout",
     "output_type": "stream",
     "text": [
      "empty dict:  64\n",
      "empty list:  56\n",
      "empty set:  216\n",
      "empty string:  41\n"
     ]
    }
   ],
   "source": [
    "import sys\n",
    "\n",
    "print(\"empty dict: \", sys.getsizeof({}))\n",
    "print(\"empty list: \", sys.getsizeof([]))\n",
    "print(\"empty set: \", sys.getsizeof(set()))\n",
    "print(\"empty string: \", sys.getsizeof(\"\"))"
   ]
  },
  {
   "cell_type": "markdown",
   "id": "f90132df-341b-4ec6-a831-3cf4597f5f5a",
   "metadata": {},
   "source": [
    "Evidently, Python objects have a fixed overhead (in bytes, 1 byte = 8 bits) that varies from one object type to another. This overhead is needed to support dynamic numerical ranges (for example - int type does not have a limited range like C int has; the only limit is the available memory), the current size of the dynamic storage, and object bookkeeping such as a reference to the relevant object and a reference count."
   ]
  },
  {
   "cell_type": "markdown",
   "id": "73d540da-b710-4812-9643-4419fafd8201",
   "metadata": {},
   "source": [
    "Check ASCII Table\n",
    "[ASCII Character](https://www.ascii-code.com/)"
   ]
  },
  {
   "cell_type": "code",
   "execution_count": 17,
   "id": "86bb96dc-0531-4068-ad25-328b9c782a66",
   "metadata": {
    "ExecuteTime": {
     "end_time": "2024-09-28T03:32:31.423897Z",
     "start_time": "2024-09-28T03:32:31.419525Z"
    }
   },
   "outputs": [
    {
     "data": {
      "text/plain": [
       "49"
      ]
     },
     "execution_count": 17,
     "metadata": {},
     "output_type": "execute_result"
    }
   ],
   "source": [
    "title = \"BIOE-488\" # string of 8 characters\n",
    "sys.getsizeof(title) # 1 byte per character in string --> If ASCII"
   ]
  },
  {
   "cell_type": "markdown",
   "id": "e9d9eec5-524f-4a4c-a2c0-4a64f3217fea",
   "metadata": {},
   "source": [
    "An empty string takes 41 bytes, and each additional character adds another byte (41 + 8 = 49). That says a lot about the tradeoffs of keeping multiple short strings where you'll pay the 41 bytes overhead for each one vs. a single long string where you pay the overhead only once."
   ]
  },
  {
   "cell_type": "code",
   "execution_count": 18,
   "id": "be7c90db-9eb7-4546-8d03-246478d9232a",
   "metadata": {
    "ExecuteTime": {
     "end_time": "2024-09-28T03:32:32.533767Z",
     "start_time": "2024-09-28T03:32:32.528830Z"
    }
   },
   "outputs": [
    {
     "name": "stdout",
     "output_type": "stream",
     "text": [
      "BIOE-488😊\n"
     ]
    },
    {
     "data": {
      "text/plain": [
       "96"
      ]
     },
     "execution_count": 18,
     "metadata": {},
     "output_type": "execute_result"
    }
   ],
   "source": [
    "title = \"BIOE-488\"+\"\\U0001F60A\"\n",
    "print(title)\n",
    "sys.getsizeof(title) # 4 byte per character in string --> If Unicode"
   ]
  },
  {
   "cell_type": "code",
   "execution_count": 19,
   "id": "d95100d9-4ee6-4b39-9925-07728d7bc882",
   "metadata": {
    "ExecuteTime": {
     "end_time": "2024-09-28T03:32:33.227556Z",
     "start_time": "2024-09-28T03:32:33.224791Z"
    }
   },
   "outputs": [
    {
     "name": "stdout",
     "output_type": "stream",
     "text": [
      "28\n",
      "28\n",
      "28\n",
      "28\n"
     ]
    }
   ],
   "source": [
    "a = True # represented as integer 1\n",
    "b = False # represented as integer 0\n",
    "print(sys.getsizeof(True))\n",
    "print(sys.getsizeof(False))\n",
    "print(sys.getsizeof(a))\n",
    "print(sys.getsizeof(b))"
   ]
  },
  {
   "cell_type": "markdown",
   "id": "9edb39ac-4379-490e-ba72-2b775c765388",
   "metadata": {},
   "source": [
    "Booleans are stored as integers. An integer is represented by a sequence of 4-byte chunks. An empty integer object such as False/0 contains no filled chunks. As soon as you actually have an int value > 0, which is the case with True/1, the integer object's chunk array isn't empty anymore as one 4-byte chunk gets filled. Read more - https://stackoverflow.com/questions/49926843/why-is-a-false-value-0-smaller-in-bytes-than-true-1"
   ]
  },
  {
   "cell_type": "code",
   "execution_count": 20,
   "id": "8b6a5f36",
   "metadata": {
    "ExecuteTime": {
     "end_time": "2024-09-28T03:32:34.489129Z",
     "start_time": "2024-09-28T03:32:34.485780Z"
    }
   },
   "outputs": [
    {
     "name": "stdout",
     "output_type": "stream",
     "text": [
      "40\n"
     ]
    }
   ],
   "source": [
    "import sys\n",
    "a = 12313423342343234563434543453434636 # try to fill more chunks of the integer data array\n",
    "print(sys.getsizeof(a))"
   ]
  },
  {
   "cell_type": "code",
   "execution_count": 21,
   "id": "c94a6e75-e463-4650-9781-58289cd0b5e6",
   "metadata": {
    "ExecuteTime": {
     "end_time": "2024-09-28T03:32:35.081249Z",
     "start_time": "2024-09-28T03:32:35.077741Z"
    }
   },
   "outputs": [
    {
     "name": "stdout",
     "output_type": "stream",
     "text": [
      "104\n",
      "24\n"
     ]
    }
   ],
   "source": [
    "# We can import special datatytpes\n",
    "from decimal import Decimal\n",
    "print(sys.getsizeof(Decimal(1.0)))\n",
    "print(sys.getsizeof(1.0))"
   ]
  },
  {
   "cell_type": "code",
   "execution_count": 22,
   "id": "1fd07ea8-869c-47ec-906c-f48fe76c248c",
   "metadata": {
    "ExecuteTime": {
     "end_time": "2024-09-28T03:32:35.711363Z",
     "start_time": "2024-09-28T03:32:35.707369Z"
    }
   },
   "outputs": [
    {
     "data": {
      "text/plain": [
       "64"
      ]
     },
     "execution_count": 22,
     "metadata": {},
     "output_type": "execute_result"
    }
   ],
   "source": [
    "import numpy as np\n",
    "alist = [a]\n",
    "sys.getsizeof(alist)"
   ]
  },
  {
   "cell_type": "markdown",
   "id": "e018ed23-a929-40df-b48d-ba240333a08c",
   "metadata": {},
   "source": [
    "Remember that empty `[]` itself takes up 56 bytes, so 64 - 56 = 8 bytes of new memory was added to the list `[]`. But since `a` is an integer, should it not take at least the minimum 28 bytes (one chunk filled) overhead shown above?\n",
    "\n",
    "It turns out the list doesn't contain the int objects themselves. It just contains an 8-byte pointer (size varies from system to system) to the actual int object. What that means is that the `getsizeof()` doesn't return the actual memory of the list and all the objects it contains, but only the memory of the list and the pointers to its objects.\n",
    "\n"
   ]
  },
  {
   "cell_type": "code",
   "execution_count": 23,
   "id": "bc43d4fe-2e81-4c3f-9bbb-32699b12e8b0",
   "metadata": {
    "ExecuteTime": {
     "end_time": "2024-09-28T03:32:36.962664Z",
     "start_time": "2024-09-28T03:32:36.959403Z"
    }
   },
   "outputs": [
    {
     "name": "stdout",
     "output_type": "stream",
     "text": [
      "56\n",
      "64\n",
      "40\n",
      "88\n"
     ]
    }
   ],
   "source": [
    "b = \"BIOE 488\"\n",
    "c = 12345\n",
    "d = 10.1234\n",
    "blist = [a, b, c, d] # 88 bytes. 56 bytes for empty list + 4*8 bytes for pointers to a, b, c, d\n",
    "blist1 = [] # empty list 56 bytes\n",
    "blist2 = [a] # 64 bytes. 56 bytes for empty list + 8 bytes for pointer to a\n",
    "blist3 = a\n",
    "print(sys.getsizeof(blist1))\n",
    "print(sys.getsizeof(blist2))\n",
    "print(sys.getsizeof(blist3))\n",
    "print(sys.getsizeof(blist))"
   ]
  },
  {
   "cell_type": "markdown",
   "id": "af810527-273a-44e4-8909-350864f1bbf6",
   "metadata": {},
   "source": [
    "**[Exercise] How can you explain 88? Why does 88 not change irrespective of what type of data the list contains?**"
   ]
  },
  {
   "cell_type": "markdown",
   "id": "1a14adbc-99e2-4324-9156-7de662411e4d",
   "metadata": {},
   "source": [
    "# Answer: 88 bytes. 56 bytes for empty list + 4*8 bytes for pointers to a, b, c, d "
   ]
  },
  {
   "cell_type": "markdown",
   "id": "e9221b1b-270e-4e89-8207-395df0e4337e",
   "metadata": {},
   "source": [
    "### Memory addresses"
   ]
  },
  {
   "cell_type": "markdown",
   "id": "b2175058-3211-48ff-bbb3-3af320c247e8",
   "metadata": {},
   "source": [
    "Each object is stored in physical memory (RAM) at a particular address. How large an address is depends on the size of the physical memory of the system. The `id()` function returns the memory address of the input. We convert the output to the conventional hexadecimal system using `hex()`."
   ]
  },
  {
   "cell_type": "code",
   "execution_count": 24,
   "id": "75561a25-be74-4c3f-ae18-813592e6201f",
   "metadata": {
    "ExecuteTime": {
     "end_time": "2024-09-28T03:32:40.069319Z",
     "start_time": "2024-09-28T03:32:40.066622Z"
    }
   },
   "outputs": [
    {
     "name": "stdout",
     "output_type": "stream",
     "text": [
      "2051166926256\n"
     ]
    }
   ],
   "source": [
    "print(id(b))"
   ]
  },
  {
   "cell_type": "code",
   "execution_count": 25,
   "id": "b81acdb7-ae8a-43d9-abac-d62f751e9560",
   "metadata": {
    "ExecuteTime": {
     "end_time": "2024-09-28T03:32:40.767678Z",
     "start_time": "2024-09-28T03:32:40.765111Z"
    }
   },
   "outputs": [
    {
     "name": "stdout",
     "output_type": "stream",
     "text": [
      "address of b:  0x1dd931375b0\n"
     ]
    }
   ],
   "source": [
    "print(\"address of b: \", hex(id(b)))"
   ]
  },
  {
   "cell_type": "code",
   "execution_count": 26,
   "id": "57942f47-76ae-413c-b7ea-26917aa2576c",
   "metadata": {
    "ExecuteTime": {
     "end_time": "2024-09-28T03:32:41.435710Z",
     "start_time": "2024-09-28T03:32:41.432570Z"
    }
   },
   "outputs": [
    {
     "name": "stdout",
     "output_type": "stream",
     "text": [
      "address of blist[3]:  0x1dd930c6e50\n"
     ]
    }
   ],
   "source": [
    "print(\"address of blist[3]: \", hex(id(blist[3])))"
   ]
  },
  {
   "cell_type": "markdown",
   "id": "ebfbc5b8-f2bc-4bad-a7b0-22589d7a2bec",
   "metadata": {},
   "source": [
    "We can, in fact, verify the use of references seen in the above section by inspecting the memory addresses of variables and list elements. "
   ]
  },
  {
   "cell_type": "code",
   "execution_count": 27,
   "id": "5a6d8f4a-3de1-4d53-a164-4426938624f2",
   "metadata": {
    "ExecuteTime": {
     "end_time": "2024-09-28T03:32:42.788263Z",
     "start_time": "2024-09-28T03:32:42.784821Z"
    }
   },
   "outputs": [
    {
     "name": "stdout",
     "output_type": "stream",
     "text": [
      "12313423342343234563434543453434636\n",
      "address of a:  0x1dd93104600\n",
      "address of a inside alist:  0x1dd93104600\n",
      "address of a inside blist:  0x1dd93104600\n"
     ]
    }
   ],
   "source": [
    "# Remember a\n",
    "print(a)\n",
    "print(\"address of a: \", hex(id(a)))\n",
    "print(\"address of a inside alist: \", hex(id(alist[0]))) #a\n",
    "print(\"address of a inside blist: \", hex(id(blist[0]))) #a"
   ]
  },
  {
   "cell_type": "markdown",
   "id": "512030cd-e0ba-45c1-8e44-d6707e790b0d",
   "metadata": {},
   "source": [
    "This tells us that there is only one copy of `a` in memory and multiple objects simply point to it."
   ]
  },
  {
   "cell_type": "markdown",
   "id": "f98b8448-4219-40af-9638-89181f617d5a",
   "metadata": {},
   "source": [
    "Read more - https://code.tutsplus.com/tutorials/understand-how-much-memory-your-python-objects-use--cms-25609"
   ]
  },
  {
   "cell_type": "code",
   "execution_count": 28,
   "id": "efccaa8d-9892-4fcf-8dc1-d43864f165ae",
   "metadata": {
    "ExecuteTime": {
     "end_time": "2024-09-28T03:32:45.796414Z",
     "start_time": "2024-09-28T03:32:45.793828Z"
    }
   },
   "outputs": [
    {
     "name": "stdout",
     "output_type": "stream",
     "text": [
      "2051166926256\n",
      "BIOE 488\n"
     ]
    }
   ],
   "source": [
    "# How we can recover the value given the address\n",
    "# Not easy as all memory is handled internally\n",
    "import ctypes\n",
    "print(id(b))\n",
    "b_recover = ctypes.cast(id(b), ctypes.py_object).value \n",
    "print(b_recover)"
   ]
  },
  {
   "cell_type": "markdown",
   "id": "f2e9f8e0-521b-4e80-80f7-e96bfe901955",
   "metadata": {},
   "source": [
    "### References and reference counting\n",
    "\n",
    "Python automatically handles the allocation and deallocation of such objects. For immutable data types (ones which cannot be modified after creation), Python typically keeps a single unique copy in memory and makes multiple variables point to it i.e. \"reference\" it."
   ]
  },
  {
   "cell_type": "markdown",
   "id": "df492539-98ba-4150-9e4c-616866c41db2",
   "metadata": {},
   "source": [
    "This is what `a = 100` looks like in memory (integers are immutable types):\n",
    "\n",
    "![Obj reference](./resources/object_reference.jpg)\n",
    "\n",
    "The integer object containing the value 100 has currently many references to it, including the user-defined variable `a`. We can check the total references to this object using `sys.getrefcount()`. Note that when calling `sys.getrefcount()`, the function's argument adds another reference to the object, thereby temporarily bumping up the object's reference count."
   ]
  },
  {
   "cell_type": "code",
   "execution_count": 29,
   "id": "93c7bd04-ddaa-4e58-a901-e87311dbf105",
   "metadata": {
    "ExecuteTime": {
     "end_time": "2024-09-28T03:32:48.238751Z",
     "start_time": "2024-09-28T03:32:48.234845Z"
    }
   },
   "outputs": [
    {
     "data": {
      "text/plain": [
       "4294967295"
      ]
     },
     "execution_count": 29,
     "metadata": {},
     "output_type": "execute_result"
    }
   ],
   "source": [
    "import sys\n",
    "\n",
    "test_num = 100\n",
    "sys.getrefcount(test_num)"
   ]
  },
  {
   "cell_type": "markdown",
   "id": "868182da-7950-4dc2-b9c0-a8b79a7abf3b",
   "metadata": {},
   "source": [
    "Why so many? The other references to the value `100` in memory are book-keeping variables used internally by Python/used in imported libraries and are not user-defined. Read more - https://groverlab.org/hnbfpr/2017-06-22-fun-with-sys-getrefcount.html\n",
    "\n",
    "Let's pick an object that's unlikely to be used internally (but we cannot guarantee this) so we can see more clearly what's going on..."
   ]
  },
  {
   "cell_type": "code",
   "execution_count": 30,
   "id": "edddee52-bffb-4fcd-b83c-5024b0b96e67",
   "metadata": {
    "ExecuteTime": {
     "end_time": "2024-09-28T03:32:49.816491Z",
     "start_time": "2024-09-28T03:32:49.813240Z"
    }
   },
   "outputs": [
    {
     "name": "stdout",
     "output_type": "stream",
     "text": [
      "2\n"
     ]
    }
   ],
   "source": [
    "immutable_number = -12345\n",
    "print(sys.getrefcount(immutable_number))"
   ]
  },
  {
   "cell_type": "markdown",
   "id": "fe417278-abc9-48f2-8a2a-f07b86674a6e",
   "metadata": {},
   "source": [
    "At this point, the value `-12345` has two references - 1) `immutable_number` variable, and 2) the call to `sys.getrefcount()`."
   ]
  },
  {
   "cell_type": "code",
   "execution_count": 31,
   "id": "1c4e0e5e-1c98-426f-9339-5a612f7a42e7",
   "metadata": {
    "ExecuteTime": {
     "end_time": "2024-09-28T03:32:51.051584Z",
     "start_time": "2024-09-28T03:32:51.047583Z"
    }
   },
   "outputs": [
    {
     "data": {
      "text/plain": [
       "3"
      ]
     },
     "execution_count": 31,
     "metadata": {},
     "output_type": "execute_result"
    }
   ],
   "source": [
    "more_numbers = immutable_number\n",
    "sys.getrefcount(immutable_number)"
   ]
  },
  {
   "cell_type": "code",
   "execution_count": 32,
   "id": "bb0d3300-fc6a-48b4-a81a-8bd5c09365c3",
   "metadata": {
    "ExecuteTime": {
     "end_time": "2024-09-28T03:32:51.477866Z",
     "start_time": "2024-09-28T03:32:51.474621Z"
    }
   },
   "outputs": [
    {
     "data": {
      "text/plain": [
       "6"
      ]
     },
     "execution_count": 32,
     "metadata": {},
     "output_type": "execute_result"
    }
   ],
   "source": [
    "matrix = [immutable_number, immutable_number, immutable_number]\n",
    "sys.getrefcount(immutable_number)"
   ]
  },
  {
   "cell_type": "code",
   "execution_count": 33,
   "id": "109891ee-6639-424f-bcfe-5f4b88b4153b",
   "metadata": {
    "ExecuteTime": {
     "end_time": "2024-09-28T03:32:52.477137Z",
     "start_time": "2024-09-28T03:32:52.474016Z"
    }
   },
   "outputs": [
    {
     "name": "stdout",
     "output_type": "stream",
     "text": [
      "5\n"
     ]
    }
   ],
   "source": [
    "del more_numbers\n",
    "print(sys.getrefcount(immutable_number))"
   ]
  },
  {
   "cell_type": "code",
   "execution_count": 34,
   "id": "c0cce048-98ae-45b5-b062-23c20897a6ec",
   "metadata": {
    "ExecuteTime": {
     "end_time": "2024-09-28T03:32:53.004087Z",
     "start_time": "2024-09-28T03:32:52.999981Z"
    }
   },
   "outputs": [
    {
     "data": {
      "text/plain": [
       "2"
      ]
     },
     "execution_count": 34,
     "metadata": {},
     "output_type": "execute_result"
    }
   ],
   "source": [
    "del matrix\n",
    "sys.getrefcount(immutable_number)"
   ]
  },
  {
   "cell_type": "code",
   "execution_count": 35,
   "id": "4bdebd10-bdfc-4933-8e9a-504508a7a351",
   "metadata": {
    "ExecuteTime": {
     "end_time": "2024-09-28T03:32:53.992395Z",
     "start_time": "2024-09-28T03:32:53.989663Z"
    }
   },
   "outputs": [],
   "source": [
    "del immutable_number"
   ]
  },
  {
   "cell_type": "markdown",
   "id": "43ba9ee4-cffb-47db-9627-5c4725a057ed",
   "metadata": {},
   "source": [
    "At this point, the only reference to the object was deleted and its reference count likely went to zero. However, we cannot precisely predict reference counts at the user-level since observing will alter the reference count as there are several caching and optimization tricks that Python uses internally. Read more - https://www.csestack.org/python-getrefcount-reference-count-memory-management/"
   ]
  },
  {
   "cell_type": "markdown",
   "id": "ea25dc79-90fd-4577-b5a5-a42e7f4b06ec",
   "metadata": {},
   "source": [
    "### Garbage collection (GC)\n",
    "\n",
    "The Python memory manager will free up the space occupied by unused objects in memory through a process called \"garbage collection\". By default, Python offers automatic GC by means of reference counting. GC gets triggered as soon as the reference count of the object becomes 0."
   ]
  },
  {
   "cell_type": "markdown",
   "id": "7ff5e94a-e1ca-45d3-a076-416f2d5f3a4b",
   "metadata": {},
   "source": [
    "Notice that GC on the basis of reference count does not work if there are cyclic references. If an object is referencing itself or is part of a cyclic chain, the reference count of the array object will never become 0, and it will never be collected by the default reference counting GC.\n",
    "\n",
    "![](./resources/cyclic_reference.jpg)\n",
    "\n",
    "To free or reclaim the memory of the objects that have cyclic references, Python uses another GC algorithm that can be manually invoked/triggered using the `gc` module. Typically, this algorithm runs infrequently in the background."
   ]
  },
  {
   "cell_type": "code",
   "execution_count": 36,
   "id": "18e146da-01af-40ca-ad9e-c9e1ad752425",
   "metadata": {
    "ExecuteTime": {
     "end_time": "2024-09-28T03:32:56.716109Z",
     "start_time": "2024-09-28T03:32:56.712662Z"
    }
   },
   "outputs": [
    {
     "name": "stdout",
     "output_type": "stream",
     "text": [
      "obj_a refcount: 1\n",
      "obj_b refcount: 1\n"
     ]
    }
   ],
   "source": [
    "import ctypes\n",
    "import gc\n",
    "\n",
    "gc.disable()\n",
    "\n",
    "class PyObject(ctypes.Structure):\n",
    "    _fields_ = [('ob_refcnt', ctypes.c_ssize_t)]\n",
    "\n",
    "# create cyclic references\n",
    "obj_a, obj_b = {}, {}\n",
    "obj_a['next'], obj_b['next'] = obj_b, obj_a\n",
    "\n",
    "# save address of objects\n",
    "obj_a_addr, obj_b_addr = id(obj_a), id(obj_b)\n",
    "\n",
    "del obj_a, obj_b\n",
    "\n",
    "# proves that refcounts are not 0 due to cyclical reference\n",
    "print(f'obj_a refcount: {PyObject.from_address(obj_a_addr).ob_refcnt}')\n",
    "print(f'obj_b refcount: {PyObject.from_address(obj_b_addr).ob_refcnt}')"
   ]
  },
  {
   "cell_type": "code",
   "execution_count": 37,
   "id": "54d75ef4-ace5-418c-ab5c-9a15b05548b1",
   "metadata": {
    "ExecuteTime": {
     "end_time": "2024-09-28T03:32:57.322643Z",
     "start_time": "2024-09-28T03:32:57.288463Z"
    }
   },
   "outputs": [
    {
     "name": "stdout",
     "output_type": "stream",
     "text": [
      "obj_a refcount: 0\n",
      "obj_b refcount: 0\n"
     ]
    }
   ],
   "source": [
    "import ctypes\n",
    "import gc\n",
    "\n",
    "gc.collect()\n",
    "\n",
    "print(f'obj_a refcount: {PyObject.from_address(obj_a_addr).ob_refcnt}')\n",
    "print(f'obj_b refcount: {PyObject.from_address(obj_b_addr).ob_refcnt}')"
   ]
  },
  {
   "cell_type": "markdown",
   "id": "82d5b5f0-91c6-47da-abfb-254c5d9b7d1e",
   "metadata": {},
   "source": [
    "Read more about the `gc` module - https://docs.python.org/3/library/gc.html. \n",
    "\n",
    "Read more about GC generally - https://speakerdeck.com/pippolo84/an-insight-into-python-garbage-collection\n",
    "\n",
    "**General rule: Don’t change garbage collector behavior**"
   ]
  },
  {
   "cell_type": "markdown",
   "id": "55bbb323-6d82-41a5-bd3b-528949ce0946",
   "metadata": {},
   "source": [
    "----------------------\n",
    "# Monitoring memory usage"
   ]
  },
  {
   "cell_type": "markdown",
   "id": "8a8b64d2-e733-44cf-b993-98d1ef7a1de9",
   "metadata": {},
   "source": [
    "### Single lines of code"
   ]
  },
  {
   "cell_type": "code",
   "execution_count": 38,
   "id": "0c9eef07-0e42-4256-8232-8b953a826072",
   "metadata": {
    "ExecuteTime": {
     "end_time": "2024-09-28T03:33:01.883437Z",
     "start_time": "2024-09-28T03:33:00.167322Z"
    }
   },
   "outputs": [
    {
     "name": "stdout",
     "output_type": "stream",
     "text": [
      "Requirement already satisfied: memory_profiler in c:\\users\\garci\\anaconda3\\envs\\highperformancecomputing\\lib\\site-packages (0.61.0)\n",
      "Requirement already satisfied: psutil in c:\\users\\garci\\anaconda3\\envs\\highperformancecomputing\\lib\\site-packages (from memory_profiler) (5.9.0)\n"
     ]
    }
   ],
   "source": [
    "!pip install -U memory_profiler"
   ]
  },
  {
   "cell_type": "code",
   "execution_count": 39,
   "id": "3a106984-d014-4c56-bd0c-1fa47f6c4240",
   "metadata": {
    "ExecuteTime": {
     "end_time": "2024-09-28T03:33:08.459427Z",
     "start_time": "2024-09-28T03:33:07.886792Z"
    }
   },
   "outputs": [
    {
     "name": "stdout",
     "output_type": "stream",
     "text": [
      "The memory_profiler extension is already loaded. To reload it, use:\n",
      "  %reload_ext memory_profiler\n",
      "peak memory: 897.65 MiB, increment: 0.41 MiB\n"
     ]
    }
   ],
   "source": [
    "# https://github.com/fabianp/memory_profiler\n",
    "%load_ext memory_profiler\n",
    "\n",
    "%memit a = list(range(20000))"
   ]
  },
  {
   "cell_type": "code",
   "execution_count": null,
   "id": "cea7295d-e9d2-44a3-83a5-b354d2acea0d",
   "metadata": {
    "ExecuteTime": {
     "end_time": "2024-09-28T03:33:10.216653Z",
     "start_time": "2024-09-28T03:33:10.214679Z"
    }
   },
   "outputs": [],
   "source": []
  },
  {
   "cell_type": "markdown",
   "id": "cacc96f7-2d5a-4e04-9931-4f72da911a0c",
   "metadata": {},
   "source": [
    "Peak memory refers to the peak memory usage of your system (including memory usage of other processes) during the program runtime. Increment is the increment in memory usage relative to the memory usage just before the code is run (i.e. increment = peak memory - starting memory)."
   ]
  },
  {
   "cell_type": "code",
   "execution_count": 40,
   "id": "07a90181-9237-45b9-be03-7b4eb2e16333",
   "metadata": {
    "ExecuteTime": {
     "end_time": "2024-09-28T03:33:11.982663Z",
     "start_time": "2024-09-28T03:33:11.428313Z"
    }
   },
   "outputs": [
    {
     "name": "stdout",
     "output_type": "stream",
     "text": [
      "peak memory: 905.28 MiB, increment: 7.63 MiB\n"
     ]
    }
   ],
   "source": [
    "%memit a = [1] * (10 ** 6)"
   ]
  },
  {
   "cell_type": "code",
   "execution_count": 41,
   "id": "3f8c9f80-f2a5-4b60-9523-9bc07636e0f9",
   "metadata": {
    "ExecuteTime": {
     "end_time": "2024-09-28T03:33:13.150494Z",
     "start_time": "2024-09-28T03:33:12.499253Z"
    }
   },
   "outputs": [
    {
     "name": "stdout",
     "output_type": "stream",
     "text": [
      "peak memory: 1057.87 MiB, increment: 152.59 MiB\n"
     ]
    }
   ],
   "source": [
    "%memit b = [2] * (2 * 10 ** 7)"
   ]
  },
  {
   "cell_type": "code",
   "execution_count": 42,
   "id": "393da5d2-48eb-4539-aeb0-69f7f3e8e7f2",
   "metadata": {
    "ExecuteTime": {
     "end_time": "2024-09-28T03:33:14.008693Z",
     "start_time": "2024-09-28T03:33:13.278899Z"
    }
   },
   "outputs": [
    {
     "name": "stdout",
     "output_type": "stream",
     "text": [
      "peak memory: 1057.88 MiB, increment: 0.00 MiB\n",
      "stored in variable:  peak memory: 1057.88 MiB, increment: 0.00 MiB\n"
     ]
    }
   ],
   "source": [
    "memit_result = %memit -o b = [2] * (2 * 10 ** 7)\n",
    "print(\"stored in variable: \", memit_result)"
   ]
  },
  {
   "cell_type": "markdown",
   "id": "d0ba9c12-9b37-44dc-8b44-032c5811bb3f",
   "metadata": {},
   "source": [
    "### One function call"
   ]
  },
  {
   "cell_type": "code",
   "execution_count": 43,
   "id": "73daaaba-1177-4f21-bbf7-06f2fdb8b3d2",
   "metadata": {
    "ExecuteTime": {
     "end_time": "2024-09-28T03:33:16.539384Z",
     "start_time": "2024-09-28T03:33:16.537301Z"
    }
   },
   "outputs": [],
   "source": [
    "# head over to functions.py..."
   ]
  },
  {
   "cell_type": "code",
   "execution_count": 45,
   "id": "ed0a2584-cd5e-4cef-b4e3-a0ce910f6442",
   "metadata": {
    "ExecuteTime": {
     "end_time": "2024-09-28T03:41:33.024020Z",
     "start_time": "2024-09-28T03:41:24.561481Z"
    }
   },
   "outputs": [
    {
     "name": "stdout",
     "output_type": "stream",
     "text": [
      "mprof: Sampling memory every 0.1s\n",
      "running new process\n",
      "running as a Python program...\n",
      "Using last profile data.\n"
     ]
    }
   ],
   "source": [
    "!mprof run functions.py\n",
    "!mprof plot -o my_func.png"
   ]
  },
  {
   "cell_type": "code",
   "execution_count": null,
   "id": "c053da86-2302-48cf-a70b-8060f06ab846",
   "metadata": {},
   "outputs": [],
   "source": [
    "# inspect memory_profiler.log and my_func.png..."
   ]
  },
  {
   "cell_type": "markdown",
   "id": "58af94c2-cda2-4a17-893b-3da79fa445b3",
   "metadata": {},
   "source": [
    "For profiling full scripts, you can modify main() in function.py to run all the functions in the script."
   ]
  },
  {
   "cell_type": "markdown",
   "id": "a0cddf41-35e3-4b82-8184-3fb27da3bb0f",
   "metadata": {},
   "source": [
    "----------------\n",
    "# Handling memory-related issues - Memory Mapping for file I/O"
   ]
  },
  {
   "cell_type": "markdown",
   "id": "bc9ffe2f-9c5a-44d9-9345-675694d28dda",
   "metadata": {},
   "source": [
    "Memory mapping uses lower-level operating system APIs to store file contents directly in physical memory. This approach often results in improved I/O performance because it avoids many costly system calls and reduces expensive data buffer transfers.\n",
    "\n",
    "![](./resources/fileio_read.jpg)\n",
    "\n",
    "Numpy arrays have built-in support for memory mapping.\n",
    "\n",
    "![](./resources/numpy_memmap.jpg)"
   ]
  },
  {
   "cell_type": "markdown",
   "id": "f800d728-0467-43dd-a359-f4d9ce0e1e66",
   "metadata": {},
   "source": [
    "### Scenario - File too large to load into RAM"
   ]
  },
  {
   "cell_type": "code",
   "execution_count": 46,
   "id": "748fe873-d554-4bff-9050-8afdbf4e73b6",
   "metadata": {
    "ExecuteTime": {
     "end_time": "2024-09-28T03:43:07.406795Z",
     "start_time": "2024-09-28T03:43:07.038600Z"
    }
   },
   "outputs": [
    {
     "name": "stdout",
     "output_type": "stream",
     "text": [
      "800000128\n"
     ]
    }
   ],
   "source": [
    "# Lets create a random data array\n",
    "import numpy as np\n",
    "import sys\n",
    "\n",
    "num_arr = np.random.rand(50000, 2000)\n",
    "print(sys.getsizeof(num_arr))\n",
    "\n",
    "# store it to disk and remove from memory - takes upto 10s!\n",
    "#np.save('big_data.npy', num_arr)\n"
   ]
  },
  {
   "cell_type": "code",
   "execution_count": 47,
   "id": "45a1c910-31d8-45b2-848d-c53c28777b76",
   "metadata": {
    "ExecuteTime": {
     "end_time": "2024-09-28T03:43:08.204274Z",
     "start_time": "2024-09-28T03:43:08.202149Z"
    }
   },
   "outputs": [],
   "source": [
    "## ~800Mb"
   ]
  },
  {
   "cell_type": "code",
   "execution_count": 48,
   "id": "33a6cec9-dc67-4ea5-875d-e31338dbaf61",
   "metadata": {
    "ExecuteTime": {
     "end_time": "2024-09-28T03:43:08.659907Z",
     "start_time": "2024-09-28T03:43:08.657429Z"
    }
   },
   "outputs": [],
   "source": [
    "def compute_something(data):\n",
    "    random_int = np.random.randint(low=10, high=10000)\n",
    "    result = np.mean((2 * np.log(data[:random_int]) + data[-random_int:]))\n",
    "    return result"
   ]
  },
  {
   "cell_type": "code",
   "execution_count": 49,
   "id": "062248d7-7bf6-484f-ba9e-460f2aecea77",
   "metadata": {
    "ExecuteTime": {
     "end_time": "2024-09-28T03:43:09.230489Z",
     "start_time": "2024-09-28T03:43:09.145120Z"
    }
   },
   "outputs": [
    {
     "name": "stdout",
     "output_type": "stream",
     "text": [
      "-1.4987179907358719\n"
     ]
    }
   ],
   "source": [
    "print(compute_something(num_arr))\n",
    "del num_arr"
   ]
  },
  {
   "cell_type": "markdown",
   "id": "b7c23308-0266-4db2-9d7d-7e55d987b15e",
   "metadata": {},
   "source": [
    "### Solution - Reading NumPy arrays using memory mapping"
   ]
  },
  {
   "cell_type": "code",
   "execution_count": 50,
   "id": "7cc22c1d-fa50-4e8b-8066-ddc7c68e778e",
   "metadata": {
    "ExecuteTime": {
     "end_time": "2024-09-28T03:43:10.414027Z",
     "start_time": "2024-09-28T03:43:10.133357Z"
    }
   },
   "outputs": [
    {
     "name": "stdout",
     "output_type": "stream",
     "text": [
      "800000128\n",
      "-1.4996704463496615\n"
     ]
    }
   ],
   "source": [
    "## Exercise\n",
    "#print(compute_something() --> Load\n",
    "# Load data using memory mapping\n",
    "data = np.load('big_data.npy')\n",
    "print(sys.getsizeof(data))\n",
    "print(compute_something(data))"
   ]
  },
  {
   "cell_type": "code",
   "execution_count": 51,
   "id": "701bf7697d4e7ccf",
   "metadata": {
    "ExecuteTime": {
     "end_time": "2024-09-28T03:43:10.639828Z",
     "start_time": "2024-09-28T03:43:10.636199Z"
    }
   },
   "outputs": [
    {
     "name": "stdout",
     "output_type": "stream",
     "text": [
      "144\n",
      "-1.5368264987253666\n"
     ]
    }
   ],
   "source": [
    "data2 = np.memmap('big_data.npy', dtype='float64',mode='r',offset = 128)\n",
    "print(sys.getsizeof(data2))\n",
    "print(compute_something(data2))"
   ]
  },
  {
   "cell_type": "code",
   "execution_count": 52,
   "id": "cb068e5a-a41e-4f05-bb2a-02a3dec35c0c",
   "metadata": {
    "ExecuteTime": {
     "end_time": "2024-09-28T03:43:11.123782Z",
     "start_time": "2024-09-28T03:43:11.117627Z"
    }
   },
   "outputs": [],
   "source": [
    "%reload_ext memory_profiler\n",
    "\n",
    "# Exercise:\n",
    "def repeat_compute_normal(n_repeats):\n",
    "    results = []\n",
    "    for _ in range(n_repeats):\n",
    "        temp = %memit -o compute_something(np.load('big_data.npy'))\n",
    "        results.append(temp)\n",
    "    return results\n",
    "\n",
    "# Exercise:\n",
    "def repeat_compute_memmap(data,n_repeats=10):\n",
    "    results = []\n",
    "    for _ in range(n_repeats):\n",
    "        temp = %memit -o compute_something(np.memmap('big_data.npy', dtype='float64',mode='r',offset = 128))\n",
    "        results.append(temp)\n",
    "    return results\n",
    "\n",
    "def parse_increments(results):\n",
    "    increments = []\n",
    "    for i in range(len(results)):\n",
    "        value = float(str(results[i]).split('increment: ')[1].split(' MiB')[0])\n",
    "        increments.append(value)\n",
    "    return increments"
   ]
  },
  {
   "cell_type": "code",
   "execution_count": 53,
   "id": "f1a772a5-490a-48ed-9087-779a2854afb6",
   "metadata": {
    "ExecuteTime": {
     "end_time": "2024-09-28T03:43:26.369175Z",
     "start_time": "2024-09-28T03:43:11.632413Z"
    }
   },
   "outputs": [
    {
     "name": "stdout",
     "output_type": "stream",
     "text": [
      "peak memory: 1859.02 MiB, increment: 801.19 MiB\n",
      "peak memory: 1875.91 MiB, increment: 818.08 MiB\n",
      "peak memory: 1873.91 MiB, increment: 816.07 MiB\n",
      "peak memory: 1861.86 MiB, increment: 804.02 MiB\n",
      "peak memory: 1861.70 MiB, increment: 803.86 MiB\n",
      "peak memory: 1835.43 MiB, increment: 777.59 MiB\n",
      "peak memory: 1872.37 MiB, increment: 814.54 MiB\n",
      "peak memory: 1836.64 MiB, increment: 778.80 MiB\n",
      "peak memory: 1877.83 MiB, increment: 820.00 MiB\n",
      "peak memory: 1881.92 MiB, increment: 824.08 MiB\n",
      "-------\n",
      "peak memory: 1057.84 MiB, increment: 0.00 MiB\n",
      "peak memory: 1057.84 MiB, increment: 0.00 MiB\n",
      "peak memory: 1057.84 MiB, increment: 0.00 MiB\n",
      "peak memory: 1057.84 MiB, increment: 0.00 MiB\n",
      "peak memory: 1057.84 MiB, increment: 0.00 MiB\n",
      "peak memory: 1057.84 MiB, increment: 0.00 MiB\n",
      "peak memory: 1057.84 MiB, increment: 0.00 MiB\n",
      "peak memory: 1057.84 MiB, increment: 0.00 MiB\n",
      "peak memory: 1057.84 MiB, increment: 0.00 MiB\n",
      "peak memory: 1057.84 MiB, increment: 0.00 MiB\n"
     ]
    }
   ],
   "source": [
    "# no memory mapping - reading the file entirely may not always be possible depending on how large of RAM you have.\n",
    "increments_normal = parse_increments(repeat_compute_normal(10))\n",
    "\n",
    "print(\"-------\")\n",
    " \n",
    "# # with memory mapping\n",
    "increments_memmap = parse_increments(repeat_compute_memmap(10))\n"
   ]
  },
  {
   "cell_type": "code",
   "execution_count": 54,
   "id": "55471914-b14d-4e3b-8d0e-a94fa8bc5981",
   "metadata": {
    "ExecuteTime": {
     "end_time": "2024-09-28T03:43:29.211661Z",
     "start_time": "2024-09-28T03:43:29.168577Z"
    }
   },
   "outputs": [
    {
     "data": {
      "image/png": "[encoded data removed]",
      "text/plain": [
       "<Figure size 640x480 with 1 Axes>"
      ]
     },
     "metadata": {},
     "output_type": "display_data"
    }
   ],
   "source": [
    "# plot increments over time\n",
    "import matplotlib.pyplot as plt\n",
    "plt.plot(increments_normal,'g*-', label='normal')\n",
    "plt.plot(increments_memmap, 'ro-', label='memmap')\n",
    "plt.legend()\n",
    "plt.xlabel(\"Varying data sizes (unordered)\", fontsize=16)\n",
    "plt.xticks([])\n",
    "plt.ylabel(\"Incremental memory (MiB)\", fontsize=16)\n",
    "#plt.ylim(0,1000)\n",
    "plt.show()"
   ]
  },
  {
   "cell_type": "markdown",
   "id": "d4e81bb4-529e-480c-9e85-5a9ec8ce919c",
   "metadata": {},
   "source": [
    "Notice how the same function call using the same input data yielded vastly different memory usage. Numpy's memory mapping is especially useful when only smaller portions of the array are needed at any given time and not the full array. Read more - https://pythonspeed.com/articles/mmap-vs-zarr-hdf5/"
   ]
  },
  {
   "cell_type": "markdown",
   "id": "01a65701-1501-4a0f-bce1-6eb262b22c47",
   "metadata": {},
   "source": [
    "In general, memory mapping is another way to perform file I/O that can result in better performance and memory efficiency. For Python's native API, read https://docs.python.org/3/library/mmap.html"
   ]
  },
  {
   "cell_type": "markdown",
   "id": "0ab401db-a7a6-44cb-a1a9-04910e4e7168",
   "metadata": {},
   "source": [
    "You are likely to encounter memory issues primarily due to two reasons: 1) either your computational procedure/algorithm requires too much space to compute the result (example - creating too many temporary intermediate variables or data structures) or it needs to use data contained in very large files (example - loading a dataset of 10,000 medical images).\n",
    "\n",
    "Despite the simplicity in how memory leaks/issues emerge, there is no one-size-fits-all strategy to handling large files or computations. Nonetheless, a useful first exercise is to characterize your problem along the following dimensions:\n",
    "- **Compute patterns**\n",
    "    - Can I re-use intermediate results from previous iterations in the current iteration of the algorithm?\n",
    "    - Can I re-define my algorithm to use a different and more efficient data structure?\n",
    "    - How long do I need to keep a particular variable alive in the program?\n",
    "    - How exact a result do I need? In other words, can you tolerate an approximate result that is far easier to compute?\n",
    "    - Are there language-specific optimizations you could do?\n",
    "    - Does my program use concurrency or parallelism to read the same data?\n",
    "- **Data access patterns**\n",
    "    - How much of the data in the file do I need to use at any given time? All of it or smaller portions of it?\n",
    "    - How frequently do I need the data? Does it need to be always available to use?\n",
    "    - Read vs. write? Do I want to over-write the data or only read it?\n",
    "    - Do I want multiple programs to read/write to the same file?\n",
    "- **Storage options**\n",
    "    - In what type of physical/network storage can the file be best stored?\n",
    "    - Does the numerical data format used accurately and efficiently represent the information contained in the data? \n",
    "    - Can I effectively compress the data without losing the information I need?\n",
    "    - Would storing the data in a database help?\n",
    "- **Memory and compute trade-offs / space-time trade-offs**\n",
    "    - Would computing a quantity on-the-fly be more efficient than reading it from a file?\n",
    "    \n",
    "    \n",
    "We may be able to build a strategy that fits our needs and constraints by thinking about questions like these. Although throwing money at the problem is always an available option, i.e., buying more/better compute and storage hardware, it is best to consider it as a last resort. As unbelievable as it may sound, the Apollo Guidance Computer used in NASA's Apollo 11 space mission in fact \"....only had 32,768 bits of Random Access Memory and only 72KB of Read-Only Memory....\" - https://interestingengineering.com/innovation/in-defense-of-the-apollo-programs-guidance-computer"
   ]
  },
  {
   "cell_type": "markdown",
   "id": "377a0a78-2ef2-4b71-8e1f-aa51ff324c3c",
   "metadata": {},
   "source": [
    "# Delete all files that are not needed for submission"
   ]
  },
  {
   "cell_type": "code",
   "execution_count": 1,
   "id": "ba5a1349-5b67-487d-a480-3976fa6e7ac9",
   "metadata": {
    "ExecuteTime": {
     "end_time": "2024-09-28T03:47:26.727999Z",
     "start_time": "2024-09-28T03:47:26.664402Z"
    }
   },
   "outputs": [
    {
     "name": "stderr",
     "output_type": "stream",
     "text": [
      "'rm' is not recognized as an internal or external command,\n",
      "operable program or batch file.\n",
      "'rm' is not recognized as an internal or external command,\n",
      "operable program or batch file.\n",
      "'rm' is not recognized as an internal or external command,\n",
      "operable program or batch file.\n",
      "'rm' is not recognized as an internal or external command,\n",
      "operable program or batch file.\n"
     ]
    }
   ],
   "source": [
    "!rm big_data.npy\n",
    "!rm mprofile_*.dat\n",
    "!rm *.log\n",
    "!rm my_func.png"
   ]
  },
  {
   "cell_type": "markdown",
   "id": "5538990e-6a43-468f-b25b-6cac261770aa",
   "metadata": {},
   "source": [
    "### References:\n",
    "- https://www.honeybadger.io/blog/memory-management-in-python/\n",
    "- https://www.cs.swarthmore.edu/~kwebb/cs31/f18/memhierarchy/mem_hierarchy.html\n",
    "- https://realpython.com/python-mmap/\n",
    "- https://fa.bianp.net/blog/2014/plot-memory-usage-as-a-function-of-time/\n",
    "- https://pythonspeed.com/articles/mmap-vs-zarr-hdf5/"
   ]
  }
 ],
 "metadata": {
  "kernelspec": {
   "display_name": "Python 3 (ipykernel)",
   "language": "python",
   "name": "python3"
  },
  "language_info": {
   "codemirror_mode": {
    "name": "ipython",
    "version": 3
   },
   "file_extension": ".py",
   "mimetype": "text/x-python",
   "name": "python",
   "nbconvert_exporter": "python",
   "pygments_lexer": "ipython3",
   "version": "3.12.5"
  }
 },
 "nbformat": 4,
 "nbformat_minor": 5
}
